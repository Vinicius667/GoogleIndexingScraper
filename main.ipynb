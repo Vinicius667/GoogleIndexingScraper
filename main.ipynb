{
 "cells": [
  {
   "cell_type": "markdown",
   "metadata": {},
   "source": [
    "# Google Indexing Scraper\n",
    "\n",
    "This is a simple scraper that uses the [Serper API](https://serper.dev/) to scrape the results for a given query."
   ]
  },
  {
   "cell_type": "code",
   "execution_count": 1,
   "metadata": {},
   "outputs": [],
   "source": [
    "import requests\n",
    "import json\n",
    "import re\n",
    "import pickle\n",
    "import pandas as pd\n",
    "import os\n",
    "from urllib.parse import urlparse"
   ]
  },
  {
   "cell_type": "code",
   "execution_count": 2,
   "metadata": {},
   "outputs": [],
   "source": [
    "if os.path.exists('./results') == False:\n",
    "    os.mkdir('./results')"
   ]
  },
  {
   "cell_type": "code",
   "execution_count": 3,
   "metadata": {},
   "outputs": [
    {
     "name": "stdout",
     "output_type": "stream",
     "text": [
      "The credentials pararameters are: dict_keys(['Content-Type', 'X-API-KEY'])\n"
     ]
    }
   ],
   "source": [
    "# Load credentials for Serper API. For more information visit https://serper.dev/\n",
    "# For obvious reasons, the credentials.json file is not included in this repo.\n",
    "f = open('credentials.json', 'r')\n",
    "credentials = json.load(f)\n",
    "\n",
    "print(f'The credentials pararameters are: {credentials.keys()}')\n",
    "\n",
    "# Entry point for the API\n",
    "url = \"https://google.serper.dev/search\""
   ]
  },
  {
   "cell_type": "code",
   "execution_count": 4,
   "metadata": {},
   "outputs": [],
   "source": [
    "def get_results(query, num=100, page=1, gl=\"nl\", hl=\"nl\"):\n",
    "    \"\"\"\n",
    "    Request the Serper API for results\n",
    "    \"\"\"\n",
    "    payload = json.dumps({\n",
    "      \"q\": query,\n",
    "      \"num\": num,\n",
    "      \"page\": page,\n",
    "      \"gl\": gl,\n",
    "      \"hl\": hl\n",
    "    })\n",
    "    response = requests.request(\"POST\", url, headers=credentials, data=payload)\n",
    "    return response.json()\n",
    "\n",
    "def save_pickle(var, path: str):\n",
    "    \"\"\"\n",
    "    Save variable with pickle\n",
    "    \"\"\"\n",
    "    with open(path, 'wb') as handle:\n",
    "        pickle.dump(var, handle, protocol=pickle.HIGHEST_PROTOCOL)\n",
    "\n",
    "def load_pickle(path: str):\n",
    "    \"\"\"\n",
    "    Load variable with pickle\n",
    "    \"\"\"\n",
    "    with open(path, 'rb') as handle:\n",
    "        var = pickle.load(handle)\n",
    "        return var\n",
    "    \n",
    "def normalize_string(string):\n",
    "    \"\"\"\n",
    "    Normalize string by removing double spaces and trailing spaces. Also capitalize the first letter of each word.\n",
    "    \"\"\"\n",
    "    return re.sub(r' {2,}', ' ', string).strip().title()\n",
    "\n",
    "\n",
    "def get_base_url(url):\n",
    "    parsed_url = urlparse(url)\n",
    "    base_url = f\"{parsed_url.scheme}://{parsed_url.netloc}\"\n",
    "    return base_url"
   ]
  },
  {
   "cell_type": "code",
   "execution_count": 5,
   "metadata": {},
   "outputs": [
    {
     "name": "stdout",
     "output_type": "stream",
     "text": [
      "A B C D E F G H I J K L M N O P\n",
      "https://www.w3schools.com\n"
     ]
    }
   ],
   "source": [
    "# Test normalize_string function\n",
    "print(normalize_string('  a  b  c  d  e  f  g        h  i  j  k  l  m  n  o  p  '))\n",
    "\n",
    "# Test get_base_url function\n",
    "print(get_base_url('https://www.w3schools.com/python/default.asp'))"
   ]
  },
  {
   "cell_type": "code",
   "execution_count": 6,
   "metadata": {},
   "outputs": [
    {
     "name": "stdout",
     "output_type": "stream",
     "text": [
      "Bootverhuur\n"
     ]
    },
    {
     "data": {
      "text/html": [
       "<div>\n",
       "<style scoped>\n",
       "    .dataframe tbody tr th:only-of-type {\n",
       "        vertical-align: middle;\n",
       "    }\n",
       "\n",
       "    .dataframe tbody tr th {\n",
       "        vertical-align: top;\n",
       "    }\n",
       "\n",
       "    .dataframe thead th {\n",
       "        text-align: right;\n",
       "    }\n",
       "</style>\n",
       "<table border=\"1\" class=\"dataframe\">\n",
       "  <thead>\n",
       "    <tr style=\"text-align: right;\">\n",
       "      <th></th>\n",
       "      <th>Query</th>\n",
       "    </tr>\n",
       "  </thead>\n",
       "  <tbody>\n",
       "    <tr>\n",
       "      <th>0</th>\n",
       "      <td>Bootverhuur</td>\n",
       "    </tr>\n",
       "    <tr>\n",
       "      <th>1</th>\n",
       "      <td>Bootverhuur Sneek</td>\n",
       "    </tr>\n",
       "    <tr>\n",
       "      <th>2</th>\n",
       "      <td>Bootverhuur Lemmer</td>\n",
       "    </tr>\n",
       "    <tr>\n",
       "      <th>3</th>\n",
       "      <td>Bootverhuur Enkhuizen</td>\n",
       "    </tr>\n",
       "    <tr>\n",
       "      <th>4</th>\n",
       "      <td>Bootverhuur Medemblik</td>\n",
       "    </tr>\n",
       "  </tbody>\n",
       "</table>\n",
       "</div>"
      ],
      "text/plain": [
       "                   Query\n",
       "0            Bootverhuur\n",
       "1      Bootverhuur Sneek\n",
       "2     Bootverhuur Lemmer\n",
       "3  Bootverhuur Enkhuizen\n",
       "4  Bootverhuur Medemblik"
      ]
     },
     "execution_count": 6,
     "metadata": {},
     "output_type": "execute_result"
    }
   ],
   "source": [
    "df_queries = pd.read_csv(\"queries.csv\", index_col=False)\n",
    "\n",
    "# Just to test if the csv is loaded correctly\n",
    "print(df_queries.Query.iloc[0].title())\n",
    "\n",
    "# Normalize Queries so we can remove duplicates\n",
    "df_queries.Query = df_queries.Query.apply(lambda string: normalize_string(string))\n",
    "\n",
    "# Remove duplicates\n",
    "df_queries = df_queries[~df_queries.Query.duplicated(keep='last')].reset_index(drop=True)\n",
    "\n",
    "df_queries.head()"
   ]
  },
  {
   "cell_type": "code",
   "execution_count": null,
   "metadata": {},
   "outputs": [],
   "source": [
    "# We will request 3 pages of results for each query with 100 results per page\n",
    "\n",
    "num_results = 100\n",
    "\n",
    "for query in df_queries.Query:\n",
    "    there_is_more = True\n",
    "    for page in range(1,4):\n",
    "        # DO NOT CHANGE THIS. The path will be used to tell whether the results for a query and page have already been saved or not.\n",
    "        picke_file = f\"results/{query}_{page}.pickle\"\n",
    "        if there_is_more:\n",
    "            if os.path.exists(picke_file):\n",
    "                print(f\"Skipping {picke_file}. Already exists.\")\n",
    "                continue\n",
    "\n",
    "            print(f\"Getting results for {query} page {page}\")\n",
    "\n",
    "            results = get_results(query, num=num_results, page=page)\n",
    "\n",
    "            if len(results['organic']) < num_results - 5:\n",
    "                # If the number of results is less than the number of results requested, we assume there are no more results. 5 is a arbitrary number to account for the fact that sometimes the API returns less results than requested even if there are more results.\n",
    "                there_is_more = False\n",
    "\n",
    "            # Since the API is billed per request, we save the whole response in a pickle file so if, for some reason, the script stops, we can continue where we left off. Also, initially we are not using all the data returned by the API, but we might need it in the future.\n",
    "            save_pickle(results, picke_file)\n",
    "        else:\n",
    "            save_pickle(False, picke_file)\n",
    "            print(f\"Skipping {picke_file}. No more results.\")"
   ]
  },
  {
   "cell_type": "code",
   "execution_count": 7,
   "metadata": {},
   "outputs": [],
   "source": [
    "# Create a dataframe with the results\n",
    "columns=['Query', 'Position', 'Title', 'Url', 'Snippet']\n",
    "data_list = []\n",
    "for query in df_queries.Query:\n",
    "    for page in range(1,4):\n",
    "        # DO NOT CHANGE THIS\n",
    "        picke_file = f\"results/{query}_{page}.pickle\"\n",
    "        if os.path.exists(picke_file):\n",
    "            results = load_pickle(picke_file)\n",
    "            if results and len(results['organic']) > 0:\n",
    "                for result in results['organic']:\n",
    "                    data_list.append([query, result['position'] + (page-1)*100,  result['title'], result['link'], result['snippet']])\n",
    "df = pd.DataFrame(columns = columns, data = data_list)"
   ]
  },
  {
   "cell_type": "code",
   "execution_count": 8,
   "metadata": {},
   "outputs": [],
   "source": [
    "# Sort by query and position\n",
    "df.sort_values(by=['Query', 'Position'], inplace=True, ignore_index=True)\n",
    "\n",
    "# Remove duplicates by query and link: overlapping results from different pages\n",
    "df = df[~df[['Query', 'Url']].duplicated(keep='first')].reset_index(drop=True)\n",
    "\n",
    "# Fix the position column after removing duplicates\n",
    "df['Position'] = df.groupby('Query').cumcount() + 1\n",
    "\n",
    "# Add base url column\n",
    "df['Base Url'] = df.Url.apply(lambda url: get_base_url(url))\n",
    "\n",
    "# Save to excel\n",
    "df[['Query', 'Position','Base Url', 'Title', 'Url', 'Snippet', ]].to_excel('results.xlsx', index=False)\n",
    "\n",
    "# Calculate the number of results per query and save to excel\n",
    "df_count = df.groupby('Query')[['Url']].count().sort_values(by='Url', ascending=False)\n",
    "df_count.to_excel('count.xlsx')"
   ]
  },
  {
   "cell_type": "code",
   "execution_count": 9,
   "metadata": {},
   "outputs": [
    {
     "data": {
      "text/html": [
       "<div>\n",
       "<style scoped>\n",
       "    .dataframe tbody tr th:only-of-type {\n",
       "        vertical-align: middle;\n",
       "    }\n",
       "\n",
       "    .dataframe tbody tr th {\n",
       "        vertical-align: top;\n",
       "    }\n",
       "\n",
       "    .dataframe thead th {\n",
       "        text-align: right;\n",
       "    }\n",
       "</style>\n",
       "<table border=\"1\" class=\"dataframe\">\n",
       "  <thead>\n",
       "    <tr style=\"text-align: right;\">\n",
       "      <th></th>\n",
       "      <th>Query</th>\n",
       "      <th>Position</th>\n",
       "      <th>Title</th>\n",
       "      <th>Url</th>\n",
       "      <th>Snippet</th>\n",
       "      <th>Base Url</th>\n",
       "    </tr>\n",
       "  </thead>\n",
       "  <tbody>\n",
       "    <tr>\n",
       "      <th>0</th>\n",
       "      <td>Bootverhuur</td>\n",
       "      <td>1</td>\n",
       "      <td>Botentehuur.nl: Dé bootverhuur website van Ned...</td>\n",
       "      <td>https://www.botentehuur.nl/</td>\n",
       "      <td>Het grootste verhuur aanbod sloepen, motorbote...</td>\n",
       "      <td>https://www.botentehuur.nl</td>\n",
       "    </tr>\n",
       "    <tr>\n",
       "      <th>1</th>\n",
       "      <td>Bootverhuur</td>\n",
       "      <td>2</td>\n",
       "      <td>Bootverhuur | Boten huren begint op bootverhuu...</td>\n",
       "      <td>https://www.bootverhuur.nl/</td>\n",
       "      <td>Ontdek de grootste selectie aan bootverhuurder...</td>\n",
       "      <td>https://www.bootverhuur.nl</td>\n",
       "    </tr>\n",
       "    <tr>\n",
       "      <th>2</th>\n",
       "      <td>Bootverhuur</td>\n",
       "      <td>3</td>\n",
       "      <td>Boot huren bij de nr 1 in bootverhuur | Motorb...</td>\n",
       "      <td>https://www.vakantievaren.nl/</td>\n",
       "      <td>Huur een boot en gun jezelf een vaarvakantie o...</td>\n",
       "      <td>https://www.vakantievaren.nl</td>\n",
       "    </tr>\n",
       "    <tr>\n",
       "      <th>3</th>\n",
       "      <td>Bootverhuur</td>\n",
       "      <td>4</td>\n",
       "      <td>Boot huren? Het grootste aanbod bootverhuur in...</td>\n",
       "      <td>https://www.bootverhuurinnederland.nl/</td>\n",
       "      <td>Wil je een boot huren? Hier vind je het groots...</td>\n",
       "      <td>https://www.bootverhuurinnederland.nl</td>\n",
       "    </tr>\n",
       "    <tr>\n",
       "      <th>4</th>\n",
       "      <td>Bootverhuur</td>\n",
       "      <td>5</td>\n",
       "      <td>Bootverhuur Friesland, valken, zeilboten en sl...</td>\n",
       "      <td>https://www.drijfveer.nl/bootverhuur-friesland</td>\n",
       "      <td>Bootverhuur Friesland op toplocatie! Zeilboot,...</td>\n",
       "      <td>https://www.drijfveer.nl</td>\n",
       "    </tr>\n",
       "  </tbody>\n",
       "</table>\n",
       "</div>"
      ],
      "text/plain": [
       "         Query  Position                                              Title  \\\n",
       "0  Bootverhuur         1  Botentehuur.nl: Dé bootverhuur website van Ned...   \n",
       "1  Bootverhuur         2  Bootverhuur | Boten huren begint op bootverhuu...   \n",
       "2  Bootverhuur         3  Boot huren bij de nr 1 in bootverhuur | Motorb...   \n",
       "3  Bootverhuur         4  Boot huren? Het grootste aanbod bootverhuur in...   \n",
       "4  Bootverhuur         5  Bootverhuur Friesland, valken, zeilboten en sl...   \n",
       "\n",
       "                                              Url  \\\n",
       "0                     https://www.botentehuur.nl/   \n",
       "1                     https://www.bootverhuur.nl/   \n",
       "2                   https://www.vakantievaren.nl/   \n",
       "3          https://www.bootverhuurinnederland.nl/   \n",
       "4  https://www.drijfveer.nl/bootverhuur-friesland   \n",
       "\n",
       "                                             Snippet  \\\n",
       "0  Het grootste verhuur aanbod sloepen, motorbote...   \n",
       "1  Ontdek de grootste selectie aan bootverhuurder...   \n",
       "2  Huur een boot en gun jezelf een vaarvakantie o...   \n",
       "3  Wil je een boot huren? Hier vind je het groots...   \n",
       "4  Bootverhuur Friesland op toplocatie! Zeilboot,...   \n",
       "\n",
       "                                Base Url  \n",
       "0             https://www.botentehuur.nl  \n",
       "1             https://www.bootverhuur.nl  \n",
       "2           https://www.vakantievaren.nl  \n",
       "3  https://www.bootverhuurinnederland.nl  \n",
       "4               https://www.drijfveer.nl  "
      ]
     },
     "execution_count": 9,
     "metadata": {},
     "output_type": "execute_result"
    }
   ],
   "source": [
    "df.head()"
   ]
  },
  {
   "cell_type": "code",
   "execution_count": 10,
   "metadata": {},
   "outputs": [
    {
     "data": {
      "text/html": [
       "<div>\n",
       "<style scoped>\n",
       "    .dataframe tbody tr th:only-of-type {\n",
       "        vertical-align: middle;\n",
       "    }\n",
       "\n",
       "    .dataframe tbody tr th {\n",
       "        vertical-align: top;\n",
       "    }\n",
       "\n",
       "    .dataframe thead th {\n",
       "        text-align: right;\n",
       "    }\n",
       "</style>\n",
       "<table border=\"1\" class=\"dataframe\">\n",
       "  <thead>\n",
       "    <tr style=\"text-align: right;\">\n",
       "      <th></th>\n",
       "      <th>Url</th>\n",
       "    </tr>\n",
       "    <tr>\n",
       "      <th>Query</th>\n",
       "      <th></th>\n",
       "    </tr>\n",
       "  </thead>\n",
       "  <tbody>\n",
       "    <tr>\n",
       "      <th>Bootverhuur</th>\n",
       "      <td>253</td>\n",
       "    </tr>\n",
       "    <tr>\n",
       "      <th>Bootverhuur Friese Meren</th>\n",
       "      <td>150</td>\n",
       "    </tr>\n",
       "    <tr>\n",
       "      <th>Bootverhuur Lauwersmeer</th>\n",
       "      <td>146</td>\n",
       "    </tr>\n",
       "    <tr>\n",
       "      <th>Bootverhuur Noord-Holland</th>\n",
       "      <td>142</td>\n",
       "    </tr>\n",
       "    <tr>\n",
       "      <th>Bootverhuur Utrecht</th>\n",
       "      <td>136</td>\n",
       "    </tr>\n",
       "  </tbody>\n",
       "</table>\n",
       "</div>"
      ],
      "text/plain": [
       "                           Url\n",
       "Query                         \n",
       "Bootverhuur                253\n",
       "Bootverhuur Friese Meren   150\n",
       "Bootverhuur Lauwersmeer    146\n",
       "Bootverhuur Noord-Holland  142\n",
       "Bootverhuur Utrecht        136"
      ]
     },
     "execution_count": 10,
     "metadata": {},
     "output_type": "execute_result"
    }
   ],
   "source": [
    "df_count.head()"
   ]
  }
 ],
 "metadata": {
  "kernelspec": {
   "display_name": "base",
   "language": "python",
   "name": "python3"
  },
  "language_info": {
   "codemirror_mode": {
    "name": "ipython",
    "version": 3
   },
   "file_extension": ".py",
   "mimetype": "text/x-python",
   "name": "python",
   "nbconvert_exporter": "python",
   "pygments_lexer": "ipython3",
   "version": "3.11.5"
  }
 },
 "nbformat": 4,
 "nbformat_minor": 2
}
